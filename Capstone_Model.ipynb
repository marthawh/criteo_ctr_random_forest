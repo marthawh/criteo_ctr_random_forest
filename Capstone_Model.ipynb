{
 "cells": [
  {
   "cell_type": "code",
   "execution_count": 613,
   "metadata": {
    "collapsed": false
   },
   "outputs": [],
   "source": [
    "import matplotlib.pyplot as plt\n",
    "import datetime as dt\n",
    "import numpy as np\n",
    "import pandas as pd\n",
    "import seaborn as sns\n",
    "from sklearn.grid_search import GridSearchCV\n",
    "from sklearn.preprocessing import LabelEncoder\n",
    "from sklearn.metrics import classification_report\n",
    "from sklearn.neighbors import KNeighborsClassifier\n",
    "from sklearn import model_selection, metrics   #Additional sklearn functions\n",
    "from sklearn.model_selection import cross_val_predict \n",
    "from sklearn.metrics import confusion_matrix\n",
    "from sklearn.ensemble import RandomForestRegressor\n",
    "from sklearn.feature_extraction import FeatureHasher\n",
    "from sklearn.svm import SVC\n",
    "from sklearn.linear_model import LogisticRegression\n",
    "from sklearn import svm, linear_model, datasets\n",
    "from sklearn.model_selection import cross_val_score\n",
    "import matplotlib.pyplot as plt\n",
    "plt.style.use(style='ggplot')\n",
    "plt.rcParams['figure.figsize'] = (10, 6)\n",
    "%matplotlib inline\n",
    "%config InlineBackend.figure_format = 'retina'\n",
    "from sklearn import model_selection\n",
    "from sklearn.ensemble import RandomForestClassifier"
   ]
  },
  {
   "cell_type": "code",
   "execution_count": 614,
   "metadata": {
    "collapsed": false
   },
   "outputs": [
    {
     "name": "stdout",
     "output_type": "stream",
     "text": [
      "Overall Time to run was: 0.00 seconds\n"
     ]
    }
   ],
   "source": [
    "import timeit\n",
    "start_time = timeit.default_timer()\n",
    "\n",
    "print('Overall Time to run was: %0.2f seconds' %(timeit.default_timer() - start_time))"
   ]
  },
  {
   "cell_type": "code",
   "execution_count": null,
   "metadata": {
    "collapsed": true
   },
   "outputs": [],
   "source": []
  },
  {
   "cell_type": "code",
   "execution_count": 615,
   "metadata": {
    "collapsed": true
   },
   "outputs": [],
   "source": [
    "## Load Clean Data"
   ]
  },
  {
   "cell_type": "code",
   "execution_count": 616,
   "metadata": {
    "collapsed": true
   },
   "outputs": [],
   "source": [
    "start_time = timeit.default_timer()\n"
   ]
  },
  {
   "cell_type": "code",
   "execution_count": 617,
   "metadata": {
    "collapsed": false
   },
   "outputs": [],
   "source": [
    "day_21_E = pd.read_csv('day_21_E.csv', index_col=None)"
   ]
  },
  {
   "cell_type": "code",
   "execution_count": 618,
   "metadata": {
    "collapsed": false
   },
   "outputs": [
    {
     "name": "stdout",
     "output_type": "stream",
     "text": [
      "Overall Time to run was: 6.27 seconds\n"
     ]
    }
   ],
   "source": [
    "print('Overall Time to run was: %0.2f seconds' %(timeit.default_timer() - start_time))"
   ]
  },
  {
   "cell_type": "code",
   "execution_count": 619,
   "metadata": {
    "collapsed": false
   },
   "outputs": [
    {
     "data": {
      "text/html": [
       "<div>\n",
       "<table border=\"1\" class=\"dataframe\">\n",
       "  <thead>\n",
       "    <tr style=\"text-align: right;\">\n",
       "      <th></th>\n",
       "      <th>Label</th>\n",
       "      <th>I1</th>\n",
       "      <th>I2</th>\n",
       "      <th>I3</th>\n",
       "      <th>I4</th>\n",
       "      <th>I5</th>\n",
       "      <th>I6</th>\n",
       "      <th>I7</th>\n",
       "      <th>I8</th>\n",
       "      <th>I10</th>\n",
       "      <th>...</th>\n",
       "      <th>C18</th>\n",
       "      <th>C19</th>\n",
       "      <th>C20</th>\n",
       "      <th>C21</th>\n",
       "      <th>C22</th>\n",
       "      <th>C23</th>\n",
       "      <th>C24</th>\n",
       "      <th>C25</th>\n",
       "      <th>C26</th>\n",
       "      <th>I9_bin</th>\n",
       "    </tr>\n",
       "  </thead>\n",
       "  <tbody>\n",
       "    <tr>\n",
       "      <th>0</th>\n",
       "      <td>1</td>\n",
       "      <td>1.343703</td>\n",
       "      <td>2.397895</td>\n",
       "      <td>2.564949</td>\n",
       "      <td>3.737670</td>\n",
       "      <td>3.737670</td>\n",
       "      <td>0.000000</td>\n",
       "      <td>0.000000</td>\n",
       "      <td>1.609438</td>\n",
       "      <td>0.000000</td>\n",
       "      <td>...</td>\n",
       "      <td>3c328ca5</td>\n",
       "      <td>9512c20b</td>\n",
       "      <td>156cbe87</td>\n",
       "      <td>96fbe197</td>\n",
       "      <td>15562d5d</td>\n",
       "      <td>1</td>\n",
       "      <td>e59d5dec</td>\n",
       "      <td>337b81aa</td>\n",
       "      <td>a0614ec9</td>\n",
       "      <td>2</td>\n",
       "    </tr>\n",
       "    <tr>\n",
       "      <th>1</th>\n",
       "      <td>1</td>\n",
       "      <td>0.869742</td>\n",
       "      <td>5.886104</td>\n",
       "      <td>0.693147</td>\n",
       "      <td>5.204007</td>\n",
       "      <td>1.098612</td>\n",
       "      <td>0.000000</td>\n",
       "      <td>0.000000</td>\n",
       "      <td>3.135494</td>\n",
       "      <td>0.000000</td>\n",
       "      <td>...</td>\n",
       "      <td>b8170bba</td>\n",
       "      <td>9512c20b</td>\n",
       "      <td>47849e55</td>\n",
       "      <td>73b3f46d</td>\n",
       "      <td>d994ba60</td>\n",
       "      <td>0</td>\n",
       "      <td>5aa3f86f</td>\n",
       "      <td>337b81aa</td>\n",
       "      <td>b757e957</td>\n",
       "      <td>1</td>\n",
       "    </tr>\n",
       "    <tr>\n",
       "      <th>2</th>\n",
       "      <td>1</td>\n",
       "      <td>1.363686</td>\n",
       "      <td>4.897840</td>\n",
       "      <td>0.000000</td>\n",
       "      <td>0.000000</td>\n",
       "      <td>2.944439</td>\n",
       "      <td>1.791759</td>\n",
       "      <td>0.000000</td>\n",
       "      <td>0.000000</td>\n",
       "      <td>1.098612</td>\n",
       "      <td>...</td>\n",
       "      <td>b8170bba</td>\n",
       "      <td>139221a3</td>\n",
       "      <td>1718cb69</td>\n",
       "      <td>e1937536</td>\n",
       "      <td>f9a6be50</td>\n",
       "      <td>0</td>\n",
       "      <td>52af1f06</td>\n",
       "      <td>ff654802</td>\n",
       "      <td>2ccea557</td>\n",
       "      <td>1</td>\n",
       "    </tr>\n",
       "    <tr>\n",
       "      <th>3</th>\n",
       "      <td>1</td>\n",
       "      <td>0.526589</td>\n",
       "      <td>5.982381</td>\n",
       "      <td>1.098612</td>\n",
       "      <td>1.386294</td>\n",
       "      <td>3.335848</td>\n",
       "      <td>0.693147</td>\n",
       "      <td>0.693147</td>\n",
       "      <td>2.564949</td>\n",
       "      <td>0.693147</td>\n",
       "      <td>...</td>\n",
       "      <td>7232d217</td>\n",
       "      <td>09c8c22c</td>\n",
       "      <td>1b6abda6</td>\n",
       "      <td>b03ac291</td>\n",
       "      <td>732e7fda</td>\n",
       "      <td>0</td>\n",
       "      <td>57e12694</td>\n",
       "      <td>30436bfc</td>\n",
       "      <td>962813c6</td>\n",
       "      <td>1</td>\n",
       "    </tr>\n",
       "    <tr>\n",
       "      <th>4</th>\n",
       "      <td>1</td>\n",
       "      <td>1.363686</td>\n",
       "      <td>4.477337</td>\n",
       "      <td>1.098612</td>\n",
       "      <td>1.098612</td>\n",
       "      <td>3.335848</td>\n",
       "      <td>1.609438</td>\n",
       "      <td>0.000000</td>\n",
       "      <td>7.417580</td>\n",
       "      <td>1.098612</td>\n",
       "      <td>...</td>\n",
       "      <td>b8170bba</td>\n",
       "      <td>9512c20b</td>\n",
       "      <td>48caeb71</td>\n",
       "      <td>c861be2d</td>\n",
       "      <td>056ca69d</td>\n",
       "      <td>0</td>\n",
       "      <td>5dea4c3e</td>\n",
       "      <td>30436bfc</td>\n",
       "      <td>b757e957</td>\n",
       "      <td>2</td>\n",
       "    </tr>\n",
       "  </tbody>\n",
       "</table>\n",
       "<p>5 rows × 40 columns</p>\n",
       "</div>"
      ],
      "text/plain": [
       "   Label        I1        I2        I3        I4        I5        I6  \\\n",
       "0      1  1.343703  2.397895  2.564949  3.737670  3.737670  0.000000   \n",
       "1      1  0.869742  5.886104  0.693147  5.204007  1.098612  0.000000   \n",
       "2      1  1.363686  4.897840  0.000000  0.000000  2.944439  1.791759   \n",
       "3      1  0.526589  5.982381  1.098612  1.386294  3.335848  0.693147   \n",
       "4      1  1.363686  4.477337  1.098612  1.098612  3.335848  1.609438   \n",
       "\n",
       "         I7        I8       I10  ...         C18       C19       C20  \\\n",
       "0  0.000000  1.609438  0.000000  ...    3c328ca5  9512c20b  156cbe87   \n",
       "1  0.000000  3.135494  0.000000  ...    b8170bba  9512c20b  47849e55   \n",
       "2  0.000000  0.000000  1.098612  ...    b8170bba  139221a3  1718cb69   \n",
       "3  0.693147  2.564949  0.693147  ...    7232d217  09c8c22c  1b6abda6   \n",
       "4  0.000000  7.417580  1.098612  ...    b8170bba  9512c20b  48caeb71   \n",
       "\n",
       "        C21       C22 C23       C24       C25       C26 I9_bin  \n",
       "0  96fbe197  15562d5d   1  e59d5dec  337b81aa  a0614ec9      2  \n",
       "1  73b3f46d  d994ba60   0  5aa3f86f  337b81aa  b757e957      1  \n",
       "2  e1937536  f9a6be50   0  52af1f06  ff654802  2ccea557      1  \n",
       "3  b03ac291  732e7fda   0  57e12694  30436bfc  962813c6      1  \n",
       "4  c861be2d  056ca69d   0  5dea4c3e  30436bfc  b757e957      2  \n",
       "\n",
       "[5 rows x 40 columns]"
      ]
     },
     "execution_count": 619,
     "metadata": {},
     "output_type": "execute_result"
    }
   ],
   "source": [
    "day_21_E.head()"
   ]
  },
  {
   "cell_type": "code",
   "execution_count": 620,
   "metadata": {
    "collapsed": false,
    "scrolled": true
   },
   "outputs": [
    {
     "data": {
      "text/plain": [
       "Label       int64\n",
       "I1        float64\n",
       "I2        float64\n",
       "I3        float64\n",
       "I4        float64\n",
       "I5        float64\n",
       "I6        float64\n",
       "I7        float64\n",
       "I8        float64\n",
       "I10       float64\n",
       "I11       float64\n",
       "I12       float64\n",
       "I13       float64\n",
       "C1         object\n",
       "C2         object\n",
       "C3         object\n",
       "C4         object\n",
       "C5         object\n",
       "C6         object\n",
       "C7         object\n",
       "C8         object\n",
       "C9         object\n",
       "C10        object\n",
       "C11        object\n",
       "C12        object\n",
       "C13        object\n",
       "C14         int64\n",
       "C15        object\n",
       "C16         int64\n",
       "C17         int64\n",
       "C18        object\n",
       "C19        object\n",
       "C20        object\n",
       "C21        object\n",
       "C22        object\n",
       "C23         int64\n",
       "C24        object\n",
       "C25        object\n",
       "C26        object\n",
       "I9_bin      int64\n",
       "dtype: object"
      ]
     },
     "execution_count": 620,
     "metadata": {},
     "output_type": "execute_result"
    }
   ],
   "source": [
    "day_21_E.dtypes"
   ]
  },
  {
   "cell_type": "code",
   "execution_count": 621,
   "metadata": {
    "collapsed": true
   },
   "outputs": [],
   "source": [
    "# C23, C17, C16, C14 ---boolean"
   ]
  },
  {
   "cell_type": "code",
   "execution_count": 622,
   "metadata": {
    "collapsed": true
   },
   "outputs": [],
   "source": [
    "cat_ohe = ['C6','C13','C19']"
   ]
  },
  {
   "cell_type": "code",
   "execution_count": 623,
   "metadata": {
    "collapsed": true
   },
   "outputs": [],
   "source": [
    "cat_e = ['C1','C2','C3','C4','C5','C7','C8','C9','C10','C11','C12','C15','C18','C20','C21','C22','C24','C25','C26']"
   ]
  },
  {
   "cell_type": "code",
   "execution_count": 624,
   "metadata": {
    "collapsed": true
   },
   "outputs": [],
   "source": [
    "cat_col = ['C1','C2','C3','C4','C5','C6','C7','C8','C9','C10', 'C11', 'C12', 'C13','C15','C18','C19','C20','C21','C22','C24','C25','C26']"
   ]
  },
  {
   "cell_type": "code",
   "execution_count": 625,
   "metadata": {
    "collapsed": true
   },
   "outputs": [],
   "source": [
    "## Instead of hot coding and causing a huge number of columns, I will encode."
   ]
  },
  {
   "cell_type": "code",
   "execution_count": 626,
   "metadata": {
    "collapsed": true
   },
   "outputs": [],
   "source": [
    "from sklearn.preprocessing import LabelEncoder, OneHotEncoder\n",
    "for c in cat_e:   \n",
    "    encoder_x=LabelEncoder()\n",
    "    day_21_E[c]=encoder_x.fit_transform(day_21_E[c])"
   ]
  },
  {
   "cell_type": "code",
   "execution_count": 627,
   "metadata": {
    "collapsed": false
   },
   "outputs": [],
   "source": [
    "from sklearn.preprocessing import LabelEncoder, OneHotEncoder\n",
    "for c in cat_ohe:   \n",
    "    encoder_x=LabelEncoder()\n",
    "    day_21_E[c]=encoder_x.fit_transform(day_21_E[c])"
   ]
  },
  {
   "cell_type": "code",
   "execution_count": 628,
   "metadata": {
    "collapsed": false
   },
   "outputs": [
    {
     "data": {
      "text/plain": [
       "(423582, 40)"
      ]
     },
     "execution_count": 628,
     "metadata": {},
     "output_type": "execute_result"
    }
   ],
   "source": [
    "day_21_E.shape"
   ]
  },
  {
   "cell_type": "code",
   "execution_count": 629,
   "metadata": {
    "collapsed": true
   },
   "outputs": [],
   "source": [
    "day_21_E = pd.get_dummies(data=day_21_E, columns=['C6'])\n",
    "day_21_E = pd.get_dummies(data=day_21_E, columns=['C13'])\n",
    "day_21_E = pd.get_dummies(data=day_21_E, columns=['C19'])"
   ]
  },
  {
   "cell_type": "code",
   "execution_count": 630,
   "metadata": {
    "collapsed": false
   },
   "outputs": [
    {
     "data": {
      "text/plain": [
       "(423582, 63)"
      ]
     },
     "execution_count": 630,
     "metadata": {},
     "output_type": "execute_result"
    }
   ],
   "source": [
    "day_21_E.shape"
   ]
  },
  {
   "cell_type": "code",
   "execution_count": 631,
   "metadata": {
    "collapsed": false
   },
   "outputs": [
    {
     "data": {
      "text/plain": [
       "Index([u'Label', u'I1', u'I2', u'I3', u'I4', u'I5', u'I6', u'I7', u'I8',\n",
       "       u'I10', u'I11', u'I12', u'I13', u'C1', u'C2', u'C3', u'C4', u'C5',\n",
       "       u'C7', u'C8', u'C9', u'C10', u'C11', u'C12', u'C14', u'C15', u'C16',\n",
       "       u'C17', u'C18', u'C20', u'C21', u'C22', u'C23', u'C24', u'C25', u'C26',\n",
       "       u'I9_bin', u'C6_0', u'C6_1', u'C6_2', u'C13_0', u'C13_1', u'C13_2',\n",
       "       u'C13_3', u'C13_4', u'C13_5', u'C13_6', u'C13_7', u'C13_8', u'C19_0',\n",
       "       u'C19_1', u'C19_2', u'C19_3', u'C19_4', u'C19_5', u'C19_6', u'C19_7',\n",
       "       u'C19_8', u'C19_9', u'C19_10', u'C19_11', u'C19_12', u'C19_13'],\n",
       "      dtype='object')"
      ]
     },
     "execution_count": 631,
     "metadata": {},
     "output_type": "execute_result"
    }
   ],
   "source": [
    "day_21_E.columns"
   ]
  },
  {
   "cell_type": "code",
   "execution_count": 632,
   "metadata": {
    "collapsed": false,
    "scrolled": true
   },
   "outputs": [
    {
     "data": {
      "text/plain": [
       "Label       int64\n",
       "I1        float64\n",
       "I2        float64\n",
       "I3        float64\n",
       "I4        float64\n",
       "I5        float64\n",
       "I6        float64\n",
       "I7        float64\n",
       "I8        float64\n",
       "I10       float64\n",
       "I11       float64\n",
       "I12       float64\n",
       "I13       float64\n",
       "C1          int64\n",
       "C2          int64\n",
       "C3          int64\n",
       "C4          int64\n",
       "C5          int64\n",
       "C7          int64\n",
       "C8          int64\n",
       "C9          int64\n",
       "C10         int64\n",
       "C11         int64\n",
       "C12         int64\n",
       "C14         int64\n",
       "C15         int64\n",
       "C16         int64\n",
       "C17         int64\n",
       "C18         int64\n",
       "C20         int64\n",
       "           ...   \n",
       "C24         int64\n",
       "C25         int64\n",
       "C26         int64\n",
       "I9_bin      int64\n",
       "C6_0        uint8\n",
       "C6_1        uint8\n",
       "C6_2        uint8\n",
       "C13_0       uint8\n",
       "C13_1       uint8\n",
       "C13_2       uint8\n",
       "C13_3       uint8\n",
       "C13_4       uint8\n",
       "C13_5       uint8\n",
       "C13_6       uint8\n",
       "C13_7       uint8\n",
       "C13_8       uint8\n",
       "C19_0       uint8\n",
       "C19_1       uint8\n",
       "C19_2       uint8\n",
       "C19_3       uint8\n",
       "C19_4       uint8\n",
       "C19_5       uint8\n",
       "C19_6       uint8\n",
       "C19_7       uint8\n",
       "C19_8       uint8\n",
       "C19_9       uint8\n",
       "C19_10      uint8\n",
       "C19_11      uint8\n",
       "C19_12      uint8\n",
       "C19_13      uint8\n",
       "dtype: object"
      ]
     },
     "execution_count": 632,
     "metadata": {},
     "output_type": "execute_result"
    }
   ],
   "source": [
    "day_21_E.dtypes"
   ]
  },
  {
   "cell_type": "code",
   "execution_count": 633,
   "metadata": {
    "collapsed": false
   },
   "outputs": [],
   "source": [
    "#enc = OneHotEncoder()\n",
    "#temp = enc.fit_transform(day_21_E.C6)\n",
    "#temp.head()\n",
    "\n"
   ]
  },
  {
   "cell_type": "code",
   "execution_count": 634,
   "metadata": {
    "collapsed": false
   },
   "outputs": [
    {
     "data": {
      "text/plain": [
       "(423582, 63)"
      ]
     },
     "execution_count": 634,
     "metadata": {},
     "output_type": "execute_result"
    }
   ],
   "source": [
    "day_21_E.shape"
   ]
  },
  {
   "cell_type": "code",
   "execution_count": 499,
   "metadata": {
    "collapsed": true
   },
   "outputs": [
    {
     "data": {
      "text/plain": [
       "C1           0\n",
       "C10          0\n",
       "C11          0\n",
       "C12          0\n",
       "C14          0\n",
       "C15          0\n",
       "C16          0\n",
       "C17          0\n",
       "C18          0\n",
       "C2           0\n",
       "C20          0\n",
       "C21          0\n",
       "C22          0\n",
       "C23          0\n",
       "C24          0\n",
       "C25          0\n",
       "C26          0\n",
       "C3           0\n",
       "C4           0\n",
       "C5           0\n",
       "C7           0\n",
       "C8           0\n",
       "C9           0\n",
       "I1           0\n",
       "I10          0\n",
       "I11          0\n",
       "I12          0\n",
       "I13          0\n",
       "I2           0\n",
       "I3           0\n",
       "            ..\n",
       "new_feat4    0\n",
       "new_feat5    0\n",
       "new_feat6    0\n",
       "I9_bin       0\n",
       "C6_0         0\n",
       "C6_1         0\n",
       "C6_2         0\n",
       "C13_0        0\n",
       "C13_1        0\n",
       "C13_2        0\n",
       "C13_3        0\n",
       "C13_4        0\n",
       "C13_5        0\n",
       "C13_6        0\n",
       "C13_7        0\n",
       "C13_8        0\n",
       "C19_0        0\n",
       "C19_1        0\n",
       "C19_2        0\n",
       "C19_3        0\n",
       "C19_4        0\n",
       "C19_5        0\n",
       "C19_6        0\n",
       "C19_7        0\n",
       "C19_8        0\n",
       "C19_9        0\n",
       "C19_10       0\n",
       "C19_11       0\n",
       "C19_12       0\n",
       "C19_13       0\n",
       "dtype: int64"
      ]
     },
     "execution_count": 499,
     "metadata": {},
     "output_type": "execute_result"
    }
   ],
   "source": [
    "day_21_E.isnull().sum()"
   ]
  },
  {
   "cell_type": "code",
   "execution_count": 635,
   "metadata": {
    "collapsed": true
   },
   "outputs": [],
   "source": [
    "day_21_E.to_csv('day21datas.csv', index=False)"
   ]
  },
  {
   "cell_type": "code",
   "execution_count": 636,
   "metadata": {
    "collapsed": true
   },
   "outputs": [],
   "source": [
    "##load target and predictors\n",
    "y=day_21_E['Label']"
   ]
  },
  {
   "cell_type": "code",
   "execution_count": 637,
   "metadata": {
    "collapsed": false
   },
   "outputs": [],
   "source": [
    "day_21_E.drop(['Label'],axis = 1, inplace=True)"
   ]
  },
  {
   "cell_type": "code",
   "execution_count": 638,
   "metadata": {
    "collapsed": true
   },
   "outputs": [],
   "source": [
    "X = day_21_E"
   ]
  },
  {
   "cell_type": "code",
   "execution_count": 639,
   "metadata": {
    "collapsed": false
   },
   "outputs": [
    {
     "data": {
      "text/plain": [
       "423582"
      ]
     },
     "execution_count": 639,
     "metadata": {},
     "output_type": "execute_result"
    }
   ],
   "source": [
    "##check the lengths\n",
    "len(y)"
   ]
  },
  {
   "cell_type": "code",
   "execution_count": 640,
   "metadata": {
    "collapsed": false
   },
   "outputs": [
    {
     "data": {
      "text/plain": [
       "(423582, 62)"
      ]
     },
     "execution_count": 640,
     "metadata": {},
     "output_type": "execute_result"
    }
   ],
   "source": [
    "X.shape"
   ]
  },
  {
   "cell_type": "code",
   "execution_count": 641,
   "metadata": {
    "collapsed": false
   },
   "outputs": [
    {
     "data": {
      "text/html": [
       "<div>\n",
       "<table border=\"1\" class=\"dataframe\">\n",
       "  <thead>\n",
       "    <tr style=\"text-align: right;\">\n",
       "      <th></th>\n",
       "      <th>I1</th>\n",
       "      <th>I2</th>\n",
       "      <th>I3</th>\n",
       "      <th>I4</th>\n",
       "      <th>I5</th>\n",
       "      <th>I6</th>\n",
       "      <th>I7</th>\n",
       "      <th>I8</th>\n",
       "      <th>I10</th>\n",
       "      <th>I11</th>\n",
       "      <th>...</th>\n",
       "      <th>C19_4</th>\n",
       "      <th>C19_5</th>\n",
       "      <th>C19_6</th>\n",
       "      <th>C19_7</th>\n",
       "      <th>C19_8</th>\n",
       "      <th>C19_9</th>\n",
       "      <th>C19_10</th>\n",
       "      <th>C19_11</th>\n",
       "      <th>C19_12</th>\n",
       "      <th>C19_13</th>\n",
       "    </tr>\n",
       "  </thead>\n",
       "  <tbody>\n",
       "    <tr>\n",
       "      <th>0</th>\n",
       "      <td>1.343703</td>\n",
       "      <td>2.397895</td>\n",
       "      <td>2.564949</td>\n",
       "      <td>3.737670</td>\n",
       "      <td>3.737670</td>\n",
       "      <td>0.000000</td>\n",
       "      <td>0.000000</td>\n",
       "      <td>1.609438</td>\n",
       "      <td>0.000000</td>\n",
       "      <td>1.386294</td>\n",
       "      <td>...</td>\n",
       "      <td>0</td>\n",
       "      <td>0</td>\n",
       "      <td>0</td>\n",
       "      <td>0</td>\n",
       "      <td>0</td>\n",
       "      <td>1</td>\n",
       "      <td>0</td>\n",
       "      <td>0</td>\n",
       "      <td>0</td>\n",
       "      <td>0</td>\n",
       "    </tr>\n",
       "    <tr>\n",
       "      <th>1</th>\n",
       "      <td>0.869742</td>\n",
       "      <td>5.886104</td>\n",
       "      <td>0.693147</td>\n",
       "      <td>5.204007</td>\n",
       "      <td>1.098612</td>\n",
       "      <td>0.000000</td>\n",
       "      <td>0.000000</td>\n",
       "      <td>3.135494</td>\n",
       "      <td>0.000000</td>\n",
       "      <td>1.098612</td>\n",
       "      <td>...</td>\n",
       "      <td>0</td>\n",
       "      <td>0</td>\n",
       "      <td>0</td>\n",
       "      <td>0</td>\n",
       "      <td>0</td>\n",
       "      <td>1</td>\n",
       "      <td>0</td>\n",
       "      <td>0</td>\n",
       "      <td>0</td>\n",
       "      <td>0</td>\n",
       "    </tr>\n",
       "    <tr>\n",
       "      <th>2</th>\n",
       "      <td>1.363686</td>\n",
       "      <td>4.897840</td>\n",
       "      <td>0.000000</td>\n",
       "      <td>0.000000</td>\n",
       "      <td>2.944439</td>\n",
       "      <td>1.791759</td>\n",
       "      <td>0.000000</td>\n",
       "      <td>0.000000</td>\n",
       "      <td>1.098612</td>\n",
       "      <td>1.945910</td>\n",
       "      <td>...</td>\n",
       "      <td>0</td>\n",
       "      <td>0</td>\n",
       "      <td>0</td>\n",
       "      <td>0</td>\n",
       "      <td>0</td>\n",
       "      <td>0</td>\n",
       "      <td>0</td>\n",
       "      <td>0</td>\n",
       "      <td>0</td>\n",
       "      <td>0</td>\n",
       "    </tr>\n",
       "    <tr>\n",
       "      <th>3</th>\n",
       "      <td>0.526589</td>\n",
       "      <td>5.982381</td>\n",
       "      <td>1.098612</td>\n",
       "      <td>1.386294</td>\n",
       "      <td>3.335848</td>\n",
       "      <td>0.693147</td>\n",
       "      <td>0.693147</td>\n",
       "      <td>2.564949</td>\n",
       "      <td>0.693147</td>\n",
       "      <td>1.860981</td>\n",
       "      <td>...</td>\n",
       "      <td>0</td>\n",
       "      <td>0</td>\n",
       "      <td>0</td>\n",
       "      <td>0</td>\n",
       "      <td>0</td>\n",
       "      <td>0</td>\n",
       "      <td>0</td>\n",
       "      <td>0</td>\n",
       "      <td>0</td>\n",
       "      <td>0</td>\n",
       "    </tr>\n",
       "    <tr>\n",
       "      <th>4</th>\n",
       "      <td>1.363686</td>\n",
       "      <td>4.477337</td>\n",
       "      <td>1.098612</td>\n",
       "      <td>1.098612</td>\n",
       "      <td>3.335848</td>\n",
       "      <td>1.609438</td>\n",
       "      <td>0.000000</td>\n",
       "      <td>7.417580</td>\n",
       "      <td>1.098612</td>\n",
       "      <td>1.860981</td>\n",
       "      <td>...</td>\n",
       "      <td>0</td>\n",
       "      <td>0</td>\n",
       "      <td>0</td>\n",
       "      <td>0</td>\n",
       "      <td>0</td>\n",
       "      <td>1</td>\n",
       "      <td>0</td>\n",
       "      <td>0</td>\n",
       "      <td>0</td>\n",
       "      <td>0</td>\n",
       "    </tr>\n",
       "  </tbody>\n",
       "</table>\n",
       "<p>5 rows × 62 columns</p>\n",
       "</div>"
      ],
      "text/plain": [
       "         I1        I2        I3        I4        I5        I6        I7  \\\n",
       "0  1.343703  2.397895  2.564949  3.737670  3.737670  0.000000  0.000000   \n",
       "1  0.869742  5.886104  0.693147  5.204007  1.098612  0.000000  0.000000   \n",
       "2  1.363686  4.897840  0.000000  0.000000  2.944439  1.791759  0.000000   \n",
       "3  0.526589  5.982381  1.098612  1.386294  3.335848  0.693147  0.693147   \n",
       "4  1.363686  4.477337  1.098612  1.098612  3.335848  1.609438  0.000000   \n",
       "\n",
       "         I8       I10       I11   ...    C19_4  C19_5  C19_6  C19_7  C19_8  \\\n",
       "0  1.609438  0.000000  1.386294   ...        0      0      0      0      0   \n",
       "1  3.135494  0.000000  1.098612   ...        0      0      0      0      0   \n",
       "2  0.000000  1.098612  1.945910   ...        0      0      0      0      0   \n",
       "3  2.564949  0.693147  1.860981   ...        0      0      0      0      0   \n",
       "4  7.417580  1.098612  1.860981   ...        0      0      0      0      0   \n",
       "\n",
       "   C19_9  C19_10  C19_11  C19_12  C19_13  \n",
       "0      1       0       0       0       0  \n",
       "1      1       0       0       0       0  \n",
       "2      0       0       0       0       0  \n",
       "3      0       0       0       0       0  \n",
       "4      1       0       0       0       0  \n",
       "\n",
       "[5 rows x 62 columns]"
      ]
     },
     "execution_count": 641,
     "metadata": {},
     "output_type": "execute_result"
    }
   ],
   "source": [
    "X.head()"
   ]
  },
  {
   "cell_type": "code",
   "execution_count": 642,
   "metadata": {
    "collapsed": true
   },
   "outputs": [],
   "source": []
  },
  {
   "cell_type": "code",
   "execution_count": 643,
   "metadata": {
    "collapsed": false
   },
   "outputs": [],
   "source": [
    "#Can't do on a sparse matrix, Random Forest does not need this\n",
    "from sklearn.preprocessing import StandardScaler\n",
    "\n",
    "#ss = StandardScaler()\n",
    "#Xs = ss.fit_transform(X)"
   ]
  },
  {
   "cell_type": "code",
   "execution_count": 644,
   "metadata": {
    "collapsed": false
   },
   "outputs": [],
   "source": [
    "## Save a test version of the data\n",
    "from sklearn.model_selection import train_test_split\n",
    "X_train, X_test, y_train, y_test = train_test_split(X, y, test_size=0.3, random_state=10)"
   ]
  },
  {
   "cell_type": "code",
   "execution_count": null,
   "metadata": {
    "collapsed": true
   },
   "outputs": [],
   "source": []
  },
  {
   "cell_type": "code",
   "execution_count": 646,
   "metadata": {
    "collapsed": false
   },
   "outputs": [
    {
     "data": {
      "text/plain": [
       "(296507, 62)"
      ]
     },
     "execution_count": 646,
     "metadata": {},
     "output_type": "execute_result"
    }
   ],
   "source": [
    "X_train.shape"
   ]
  },
  {
   "cell_type": "code",
   "execution_count": 647,
   "metadata": {
    "collapsed": false
   },
   "outputs": [
    {
     "data": {
      "text/plain": [
       "296507"
      ]
     },
     "execution_count": 647,
     "metadata": {},
     "output_type": "execute_result"
    }
   ],
   "source": [
    "len(y_train)"
   ]
  },
  {
   "cell_type": "code",
   "execution_count": 648,
   "metadata": {
    "collapsed": false
   },
   "outputs": [
    {
     "name": "stdout",
     "output_type": "stream",
     "text": [
      "baseline: 0.457521802154\n"
     ]
    }
   ],
   "source": [
    "###\n",
    "#Baseline\n",
    "baseline = 1. - np.mean(y)\n",
    "print 'baseline:', baseline"
   ]
  },
  {
   "cell_type": "code",
   "execution_count": 649,
   "metadata": {
    "collapsed": false
   },
   "outputs": [
    {
     "name": "stdout",
     "output_type": "stream",
     "text": [
      "baseline: 0.542478197846\n"
     ]
    }
   ],
   "source": [
    "#Baseline2\n",
    "baseline = np.mean(y)\n",
    "print 'baseline:', baseline"
   ]
  },
  {
   "cell_type": "code",
   "execution_count": 650,
   "metadata": {
    "collapsed": true
   },
   "outputs": [],
   "source": [
    "### I tried FeatureHasher from sklearn. There was no difference in results.\n",
    "#fh = FeatureHasher(n_features=2**20, input_type=\"string\")"
   ]
  },
  {
   "cell_type": "code",
   "execution_count": 651,
   "metadata": {
    "collapsed": true
   },
   "outputs": [],
   "source": [
    "#Xcat = fh.transform(np.asarray(X_train.astype(str)))"
   ]
  },
  {
   "cell_type": "code",
   "execution_count": 652,
   "metadata": {
    "collapsed": false
   },
   "outputs": [],
   "source": [
    "#Xcat.shape"
   ]
  },
  {
   "cell_type": "code",
   "execution_count": 653,
   "metadata": {
    "collapsed": false
   },
   "outputs": [
    {
     "data": {
      "text/plain": [
       "0.62520609961425955"
      ]
     },
     "execution_count": 653,
     "metadata": {},
     "output_type": "execute_result"
    }
   ],
   "source": [
    "# What if we just use logistic regression without doing anything?\n",
    "logistic = linear_model.LogisticRegression()\n",
    "cross_val_score(logistic, X_train, y_train, cv=5, scoring='accuracy').mean()\n"
   ]
  },
  {
   "cell_type": "code",
   "execution_count": null,
   "metadata": {
    "collapsed": true
   },
   "outputs": [],
   "source": [
    "# Linear Regression One"
   ]
  },
  {
   "cell_type": "code",
   "execution_count": 612,
   "metadata": {
    "collapsed": false
   },
   "outputs": [
    {
     "name": "stdout",
     "output_type": "stream",
     "text": [
      "('gs.best_score_:', 0.9547057399112244)\n"
     ]
    }
   ],
   "source": [
    "grid = {\n",
    "        'C': np.power(10.0, np.arange(-10, 10))\n",
    "         , 'solver': ['newton-cg']\n",
    "    }\n",
    "clf = LogisticRegression(penalty='l2', random_state=777, max_iter=10000, tol=10)\n",
    "gs = GridSearchCV(clf, grid, scoring='roc_auc', cv=10)\n",
    "gs.fit(X_test, y_test)\n",
    "print ('gs.best_score_:', gs.best_score_)"
   ]
  },
  {
   "cell_type": "code",
   "execution_count": null,
   "metadata": {
    "collapsed": true
   },
   "outputs": [],
   "source": [
    "# Linear Regression 2"
   ]
  },
  {
   "cell_type": "code",
   "execution_count": null,
   "metadata": {
    "collapsed": true
   },
   "outputs": [],
   "source": [
    "gs_params = {\n",
    "    'penalty':['l1','l2'],\n",
    "    'solver':['liblinear'],\n",
    "    'C':np.logspace(-5,0,100)\n",
    "}\n",
    "\n",
    "lr_gridsearch = GridSearchCV(LogisticRegression(), gs_params, cv=5, verbose=1)"
   ]
  },
  {
   "cell_type": "code",
   "execution_count": null,
   "metadata": {
    "collapsed": true
   },
   "outputs": [],
   "source": [
    "coef_df = pd.DataFrame({\n",
    "        'coef':best_lr.coef_[0],\n",
    "        'feature':X.columns\n",
    "    })"
   ]
  },
  {
   "cell_type": "code",
   "execution_count": null,
   "metadata": {
    "collapsed": true
   },
   "outputs": [],
   "source": [
    "coef_df['abs_coef'] = np.abs(coef_df.coef)"
   ]
  },
  {
   "cell_type": "code",
   "execution_count": null,
   "metadata": {
    "collapsed": true
   },
   "outputs": [],
   "source": [
    "# sort by absolute value of coefficient (magnitude)\n",
    "coef_df.sort_values('abs_coef', ascending=False, inplace=True)"
   ]
  },
  {
   "cell_type": "code",
   "execution_count": null,
   "metadata": {
    "collapsed": true
   },
   "outputs": [],
   "source": [
    "# Show non-zero coefs and predictors\n",
    "coef_df[coef_df.coef != 0]"
   ]
  },
  {
   "cell_type": "code",
   "execution_count": null,
   "metadata": {
    "collapsed": true
   },
   "outputs": [],
   "source": []
  },
  {
   "cell_type": "code",
   "execution_count": null,
   "metadata": {
    "collapsed": true
   },
   "outputs": [],
   "source": [
    "##### Random Forest Model"
   ]
  },
  {
   "cell_type": "code",
   "execution_count": null,
   "metadata": {
    "collapsed": true
   },
   "outputs": [
    {
     "name": "stderr",
     "output_type": "stream",
     "text": [
      "Process PoolWorker-35:\n",
      "Process PoolWorker-38:\n",
      "Process PoolWorker-36:\n",
      "Process PoolWorker-37:\n",
      "Traceback (most recent call last):\n",
      "Traceback (most recent call last):\n",
      "Traceback (most recent call last):\n",
      "Traceback (most recent call last):\n",
      "  File \"/Users/marthawhite/anaconda/lib/python2.7/multiprocessing/process.py\", line 258, in _bootstrap\n",
      "  File \"/Users/marthawhite/anaconda/lib/python2.7/multiprocessing/process.py\", line 258, in _bootstrap\n",
      "  File \"/Users/marthawhite/anaconda/lib/python2.7/multiprocessing/process.py\", line 258, in _bootstrap\n",
      "  File \"/Users/marthawhite/anaconda/lib/python2.7/multiprocessing/process.py\", line 258, in _bootstrap\n",
      "    self.run()\n",
      "    self.run()\n",
      "  File \"/Users/marthawhite/anaconda/lib/python2.7/multiprocessing/process.py\", line 114, in run\n",
      "  File \"/Users/marthawhite/anaconda/lib/python2.7/multiprocessing/process.py\", line 114, in run\n",
      "    self._target(*self._args, **self._kwargs)\n",
      "    self._target(*self._args, **self._kwargs)\n",
      "    self.run()\n",
      "    self.run()\n",
      "  File \"/Users/marthawhite/anaconda/lib/python2.7/multiprocessing/pool.py\", line 102, in worker\n",
      "  File \"/Users/marthawhite/anaconda/lib/python2.7/multiprocessing/process.py\", line 114, in run\n",
      "  File \"/Users/marthawhite/anaconda/lib/python2.7/multiprocessing/pool.py\", line 102, in worker\n",
      "  File \"/Users/marthawhite/anaconda/lib/python2.7/multiprocessing/process.py\", line 114, in run\n",
      "    task = get()\n",
      "    self._target(*self._args, **self._kwargs)\n",
      "    task = get()\n",
      "  File \"/Users/marthawhite/anaconda/lib/python2.7/site-packages/sklearn/externals/joblib/pool.py\", line 360, in get\n",
      "    self._target(*self._args, **self._kwargs)\n",
      "  File \"/Users/marthawhite/anaconda/lib/python2.7/multiprocessing/pool.py\", line 102, in worker\n",
      "  File \"/Users/marthawhite/anaconda/lib/python2.7/site-packages/sklearn/externals/joblib/pool.py\", line 360, in get\n",
      "  File \"/Users/marthawhite/anaconda/lib/python2.7/multiprocessing/pool.py\", line 102, in worker\n",
      "    task = get()\n",
      "    task = get()\n",
      "  File \"/Users/marthawhite/anaconda/lib/python2.7/site-packages/sklearn/externals/joblib/pool.py\", line 360, in get\n",
      "  File \"/Users/marthawhite/anaconda/lib/python2.7/site-packages/sklearn/externals/joblib/pool.py\", line 362, in get\n",
      "    racquire()\n",
      "    return recv()\n",
      "    racquire()\n",
      "KeyboardInterrupt\n",
      "KeyboardInterrupt\n",
      "    racquire()\n",
      "KeyboardInterrupt\n",
      "KeyboardInterrupt\n"
     ]
    }
   ],
   "source": [
    "## First Model\n",
    "model1 = RandomForestClassifier(random_state=0)\n",
    "param_grid = { \"n_estimators\"      : [50,100,200],\n",
    "           \"max_features\"      : [3, 5],\n",
    "           \"max_depth\"         : [2,5,10],\n",
    "           \"min_samples_split\" : [2, 4] }\n",
    "gs1 = GridSearchCV(model1, param_grid, n_jobs=-1, cv=5)\n",
    "gs1.fit(X_train, y_train)\n",
    "print gs1.best_params_"
   ]
  },
  {
   "cell_type": "code",
   "execution_count": 305,
   "metadata": {
    "collapsed": true
   },
   "outputs": [],
   "source": [
    "rf_best1 = gs1.best_estimator_ "
   ]
  },
  {
   "cell_type": "code",
   "execution_count": 319,
   "metadata": {
    "collapsed": false
   },
   "outputs": [
    {
     "data": {
      "text/plain": [
       "RandomForestClassifier(bootstrap=True, class_weight=None, criterion='gini',\n",
       "            max_depth=5, max_features=5, max_leaf_nodes=None,\n",
       "            min_impurity_split=1e-07, min_samples_leaf=1,\n",
       "            min_samples_split=2, min_weight_fraction_leaf=0.0,\n",
       "            n_estimators=200, n_jobs=1, oob_score=False, random_state=0,\n",
       "            verbose=0, warm_start=False)"
      ]
     },
     "execution_count": 319,
     "metadata": {},
     "output_type": "execute_result"
    }
   ],
   "source": [
    "rf_best1.fit(X_train, y_train)"
   ]
  },
  {
   "cell_type": "code",
   "execution_count": 545,
   "metadata": {
    "collapsed": true
   },
   "outputs": [
    {
     "data": {
      "text/plain": [
       "array([  1.92536129e-03,   8.93933674e-03,   2.30174302e-03,\n",
       "         1.67361143e-02,   4.46360560e-04,   7.64606395e-04,\n",
       "         6.30968114e-04,   2.09393482e-04,   8.02910828e-06,\n",
       "         1.55545959e-03,   3.67718882e-04,   1.36226040e-03,\n",
       "         9.39017659e-03,   9.99611401e-04,   3.07270261e-04,\n",
       "         2.68664159e-05,   1.12611034e-04,   1.25057864e-03,\n",
       "         7.43194607e-05,   1.06660715e-05,   8.78166358e-06,\n",
       "         4.68977676e-03,   8.33022129e-05,   6.86335620e-04,\n",
       "         2.38425274e-04,   1.09077151e-03,   1.18388699e-02,\n",
       "         1.24191296e-02,   1.38575786e-02,   3.30073815e-03,\n",
       "         1.76567207e-04,   1.20369381e-04,   2.86408863e-02,\n",
       "         1.24825435e-02,   1.11915834e-02,   1.18768639e-04,\n",
       "         3.13970060e-05,   4.47058817e-04,   5.35619199e-01,\n",
       "         6.17114234e-02,   2.00194962e-02,   4.53218526e-02,\n",
       "         3.04954729e-02,   1.57944221e-01,   4.59999578e-05])"
      ]
     },
     "execution_count": 545,
     "metadata": {},
     "output_type": "execute_result"
    }
   ],
   "source": [
    "rf_best1.feature_importances_"
   ]
  },
  {
   "cell_type": "code",
   "execution_count": 320,
   "metadata": {
    "collapsed": false
   },
   "outputs": [],
   "source": [
    "#Predict training set:\n",
    "#y_train = cross_val_predict(rf_best1, X_test, y_train, cv=10) \n",
    "#Xcat_test = fh.transform(np.asarray(X_test.astype(str)))\n",
    "ypred = rf_best1.predict(X_test)\n",
    "yproba = rf_best1.predict_proba(X_test)[:,1]\n",
    "    "
   ]
  },
  {
   "cell_type": "code",
   "execution_count": 321,
   "metadata": {
    "collapsed": false
   },
   "outputs": [
    {
     "name": "stdout",
     "output_type": "stream",
     "text": [
      "63645 0 50714 0\n"
     ]
    }
   ],
   "source": [
    "tp = np.sum((y_test == 1) & (ypred == 1))\n",
    "fp = np.sum((y_test == 0) & (ypred == 1))\n",
    "tn = np.sum((y_test == 0) & (ypred == 0))\n",
    "fn = np.sum((y_test == 1) & (ypred == 0))\n",
    "print tp, fp, tn, fn"
   ]
  },
  {
   "cell_type": "code",
   "execution_count": 317,
   "metadata": {
    "collapsed": false
   },
   "outputs": [
    {
     "name": "stdout",
     "output_type": "stream",
     "text": [
      "1.0\n",
      "1.0\n"
     ]
    }
   ],
   "source": [
    "from sklearn.metrics import accuracy_score\n",
    "\n",
    "total_population = tp + fp + tn + fn\n",
    "\n",
    "print accuracy_score(y_test, ypred)\n",
    "print float(tp + tn) / total_population"
   ]
  },
  {
   "cell_type": "code",
   "execution_count": 309,
   "metadata": {
    "collapsed": true
   },
   "outputs": [],
   "source": [
    "thresh_0 = (y_train==0).sum()/float(len(y_train))"
   ]
  },
  {
   "cell_type": "code",
   "execution_count": 547,
   "metadata": {
    "collapsed": false
   },
   "outputs": [
    {
     "name": "stdout",
     "output_type": "stream",
     "text": [
      "\n",
      "Random Forest Model Report\n",
      "Threshold Accuracy Needed: 45.71%\n",
      "Train Accuracy : 100.0%\n",
      "Train AUC Score : 100.0000\n",
      "Test Accuracy : 100.0%\n",
      "Test AUC Score : 100.0000\n",
      "Random Forest Model Params (best): {'max_features': 5, 'min_samples_split': 2, 'n_estimators': 200, 'max_depth': 10}\n"
     ]
    }
   ],
   "source": [
    "# Print model report:\n",
    "print(\"\\nRandom Forest Model Report\")\n",
    "print('Threshold Accuracy Needed: %0.2f%%' %(thresh_0*100))\n",
    "train_accu = float(metrics.accuracy_score(y_train, y_train))*100\n",
    "train_auc = float(metrics.roc_auc_score(y_train, y_train))*100\n",
    "print( \"Train Accuracy : %.1f%%\" % train_accu)\n",
    "print('Train AUC Score : %0.4f' %(train_auc))\n",
    "    \n",
    "test_accu = float(metrics.accuracy_score(y_test, ypred))*100\n",
    "test_auc = float(metrics.roc_auc_score(y_test, ypred))*100\n",
    "print( \"Test Accuracy : %.1f%%\" % test_accu)\n",
    "print('Test AUC Score : %0.4f' %(test_auc))\n",
    "print('Random Forest Model Params (best): %s'%gs1.best_params_)\n",
    "\n"
   ]
  },
  {
   "cell_type": "code",
   "execution_count": null,
   "metadata": {
    "collapsed": false
   },
   "outputs": [],
   "source": []
  },
  {
   "cell_type": "code",
   "execution_count": 582,
   "metadata": {
    "collapsed": false
   },
   "outputs": [
    {
     "name": "stdout",
     "output_type": "stream",
     "text": [
      "{'max_features': 5, 'min_samples_split': 4, 'n_estimators': 200, 'max_depth': 10}\n"
     ]
    }
   ],
   "source": [
    "## Second Model\n",
    "model2 = RandomForestClassifier(random_state=0,class_weight={1:3,0:1})\n",
    "param_grid = { \"n_estimators\"      : [50,100,200],\n",
    "           \"max_features\"      : [3, 5],\n",
    "           \"max_depth\"         : [2,5,10],\n",
    "           \"min_samples_split\" : [2, 4] }\n",
    "gs2 = GridSearchCV(model2, param_grid, n_jobs=-1, cv=5)\n",
    "gs2.fit(X_train, y_train)\n",
    "print gs2.best_params_"
   ]
  },
  {
   "cell_type": "code",
   "execution_count": 583,
   "metadata": {
    "collapsed": true
   },
   "outputs": [],
   "source": [
    "rf_best2 = gs2.best_estimator_ "
   ]
  },
  {
   "cell_type": "code",
   "execution_count": 584,
   "metadata": {
    "collapsed": false
   },
   "outputs": [
    {
     "data": {
      "text/plain": [
       "array([  3.30924891e-03,   4.29531115e-03,   1.95560960e-02,\n",
       "         4.50844315e-03,   1.77189950e-03,   4.44418694e-03,\n",
       "         1.54277874e-03,   1.58816217e-03,   6.75129443e-04,\n",
       "         3.26857501e-03,   3.47363104e-03,   1.76924054e-02,\n",
       "         3.25052268e-03,   1.34957790e-03,   1.56190981e-03,\n",
       "         9.57062503e-04,   3.48578659e-03,   1.67099518e-03,\n",
       "         8.84248100e-04,   9.79366830e-04,   1.94493423e-03,\n",
       "         4.30942484e-03,   2.26209791e-03,   7.06801396e-03,\n",
       "         1.06078067e-02,   1.56488435e-02,   1.65746361e-02,\n",
       "         7.02500849e-03,   2.26116680e-03,   1.95392684e-03,\n",
       "         2.23792985e-02,   1.04467696e-02,   1.22050791e-02,\n",
       "         1.06179824e-03,   1.47485712e-03,   2.33323076e-03,\n",
       "         1.43536574e-01,   5.84845802e-02,   1.01197469e-01,\n",
       "         6.59626241e-02,   3.46846415e-01,   3.05690355e-04,\n",
       "         1.10803518e-03,   4.95430819e-03,   1.88169695e-07,\n",
       "         4.95395148e-03,   5.85504776e-03,   3.39451222e-03,\n",
       "         3.43749157e-03,   1.33522332e-04,   2.24189115e-02,\n",
       "         6.91403151e-03,   3.20294706e-03,   1.64186561e-02,\n",
       "         4.46180582e-03,   1.66709728e-03,   1.90735287e-03,\n",
       "         1.45462415e-04,   1.20443940e-04,   4.67098431e-05,\n",
       "         1.98753393e-05,   6.32037166e-05,   6.07389173e-04,\n",
       "         6.31601575e-05,   5.97399774e-04,   1.95558532e-04,\n",
       "         1.14734605e-03,   6.81599610e-06,   3.19328621e-06])"
      ]
     },
     "execution_count": 584,
     "metadata": {},
     "output_type": "execute_result"
    }
   ],
   "source": [
    "rf_best2.feature_importances_"
   ]
  },
  {
   "cell_type": "code",
   "execution_count": 588,
   "metadata": {
    "collapsed": true
   },
   "outputs": [],
   "source": [
    "##Predict training set:\n",
    "#ytrain = cross_val_predict(rf_best2, Xcat, y_train, cv=10) \n",
    "#Xcat_test = fh.transform(np.asarray(X_test.astype(str)))\n",
    "ypred = rf_best2.predict(X_test)\n",
    "yproba = rf_best2.predict_proba(X_test)\n",
    "    "
   ]
  },
  {
   "cell_type": "code",
   "execution_count": 589,
   "metadata": {
    "collapsed": false
   },
   "outputs": [],
   "source": [
    "thresh_0 = (y_train==0).sum()/float(len(y_train))"
   ]
  },
  {
   "cell_type": "code",
   "execution_count": 590,
   "metadata": {
    "collapsed": false
   },
   "outputs": [
    {
     "name": "stdout",
     "output_type": "stream",
     "text": [
      "\n",
      "Random Forest Model Report\n",
      "Threshold Accuracy Needed: 45.71%\n",
      "Train Accuracy : 100.0%\n",
      "Train AUC Score : 100.0000\n",
      "Test Accuracy : 81.8%\n",
      "Test AUC Score : 80.2579\n",
      "Random Forest Model Params (best): {'max_features': 5, 'min_samples_split': 4, 'n_estimators': 200, 'max_depth': 10}\n"
     ]
    }
   ],
   "source": [
    "# Print model report:\n",
    "print(\"\\nRandom Forest Model Report\")\n",
    "print('Threshold Accuracy Needed: %0.2f%%' %(thresh_0*100))\n",
    "train_accu = float(metrics.accuracy_score(y_train, y_train))*100\n",
    "train_auc = float(metrics.roc_auc_score(y_train, y_train))*100\n",
    "print( \"Train Accuracy : %.1f%%\" % train_accu)\n",
    "print('Train AUC Score : %0.4f' %(train_auc))\n",
    "    \n",
    "test_accu = float(metrics.accuracy_score(y_test, ypred))*100\n",
    "test_auc = float(metrics.roc_auc_score(y_test, ypred))*100\n",
    "print( \"Test Accuracy : %.1f%%\" % test_accu)\n",
    "print('Test AUC Score : %0.4f' %(test_auc))\n",
    "print('Random Forest Model Params (best): %s'%gs2.best_params_)\n",
    "\n",
    "\n"
   ]
  },
  {
   "cell_type": "code",
   "execution_count": 591,
   "metadata": {
    "collapsed": false
   },
   "outputs": [
    {
     "name": "stdout",
     "output_type": "stream",
     "text": [
      "             precision    recall  f1-score   support\n",
      "\n",
      "          0       0.97      0.62      0.76     58236\n",
      "          1       0.75      0.98      0.85     68839\n",
      "\n",
      "avg / total       0.85      0.82      0.81    127075\n",
      "\n"
     ]
    }
   ],
   "source": [
    "print(classification_report(y_test, ypred))"
   ]
  },
  {
   "cell_type": "code",
   "execution_count": 593,
   "metadata": {
    "collapsed": true
   },
   "outputs": [],
   "source": [
    "#### Roc_Curve"
   ]
  },
  {
   "cell_type": "code",
   "execution_count": 594,
   "metadata": {
    "collapsed": false
   },
   "outputs": [
    {
     "data": {
      "text/html": [
       "<div>\n",
       "<table border=\"1\" class=\"dataframe\">\n",
       "  <thead>\n",
       "    <tr style=\"text-align: right;\">\n",
       "      <th></th>\n",
       "      <th>class_0_pp</th>\n",
       "      <th>class_1_pp</th>\n",
       "    </tr>\n",
       "  </thead>\n",
       "  <tbody>\n",
       "    <tr>\n",
       "      <th>0</th>\n",
       "      <td>0.146646</td>\n",
       "      <td>0.853354</td>\n",
       "    </tr>\n",
       "    <tr>\n",
       "      <th>1</th>\n",
       "      <td>0.182657</td>\n",
       "      <td>0.817343</td>\n",
       "    </tr>\n",
       "    <tr>\n",
       "      <th>2</th>\n",
       "      <td>0.095081</td>\n",
       "      <td>0.904919</td>\n",
       "    </tr>\n",
       "    <tr>\n",
       "      <th>3</th>\n",
       "      <td>0.075953</td>\n",
       "      <td>0.924047</td>\n",
       "    </tr>\n",
       "    <tr>\n",
       "      <th>4</th>\n",
       "      <td>0.072649</td>\n",
       "      <td>0.927351</td>\n",
       "    </tr>\n",
       "  </tbody>\n",
       "</table>\n",
       "</div>"
      ],
      "text/plain": [
       "   class_0_pp  class_1_pp\n",
       "0    0.146646    0.853354\n",
       "1    0.182657    0.817343\n",
       "2    0.095081    0.904919\n",
       "3    0.075953    0.924047\n",
       "4    0.072649    0.927351"
      ]
     },
     "execution_count": 594,
     "metadata": {},
     "output_type": "execute_result"
    }
   ],
   "source": [
    "# Get the predicted probability vector and explicitly name the columns:\n",
    "Y_pp = pd.DataFrame(gs2.predict_proba(X_test), columns=['class_0_pp','class_1_pp'])\n",
    "Y_pp.head()"
   ]
  },
  {
   "cell_type": "code",
   "execution_count": 606,
   "metadata": {
    "collapsed": false
   },
   "outputs": [
    {
     "data": {
      "text/html": [
       "<div>\n",
       "<table border=\"1\" class=\"dataframe\">\n",
       "  <thead>\n",
       "    <tr style=\"text-align: right;\">\n",
       "      <th></th>\n",
       "      <th>class_0_pp</th>\n",
       "      <th>class_1_pp</th>\n",
       "      <th>pred_class_thresh10</th>\n",
       "    </tr>\n",
       "  </thead>\n",
       "  <tbody>\n",
       "    <tr>\n",
       "      <th>0</th>\n",
       "      <td>0.146646</td>\n",
       "      <td>0.853354</td>\n",
       "      <td>1</td>\n",
       "    </tr>\n",
       "    <tr>\n",
       "      <th>1</th>\n",
       "      <td>0.182657</td>\n",
       "      <td>0.817343</td>\n",
       "      <td>1</td>\n",
       "    </tr>\n",
       "    <tr>\n",
       "      <th>2</th>\n",
       "      <td>0.095081</td>\n",
       "      <td>0.904919</td>\n",
       "      <td>1</td>\n",
       "    </tr>\n",
       "    <tr>\n",
       "      <th>3</th>\n",
       "      <td>0.075953</td>\n",
       "      <td>0.924047</td>\n",
       "      <td>1</td>\n",
       "    </tr>\n",
       "    <tr>\n",
       "      <th>4</th>\n",
       "      <td>0.072649</td>\n",
       "      <td>0.927351</td>\n",
       "      <td>1</td>\n",
       "    </tr>\n",
       "    <tr>\n",
       "      <th>5</th>\n",
       "      <td>0.535109</td>\n",
       "      <td>0.464891</td>\n",
       "      <td>0</td>\n",
       "    </tr>\n",
       "    <tr>\n",
       "      <th>6</th>\n",
       "      <td>0.577023</td>\n",
       "      <td>0.422977</td>\n",
       "      <td>0</td>\n",
       "    </tr>\n",
       "    <tr>\n",
       "      <th>7</th>\n",
       "      <td>0.581195</td>\n",
       "      <td>0.418805</td>\n",
       "      <td>0</td>\n",
       "    </tr>\n",
       "    <tr>\n",
       "      <th>8</th>\n",
       "      <td>0.141238</td>\n",
       "      <td>0.858762</td>\n",
       "      <td>1</td>\n",
       "    </tr>\n",
       "    <tr>\n",
       "      <th>9</th>\n",
       "      <td>0.539791</td>\n",
       "      <td>0.460209</td>\n",
       "      <td>0</td>\n",
       "    </tr>\n",
       "  </tbody>\n",
       "</table>\n",
       "</div>"
      ],
      "text/plain": [
       "   class_0_pp  class_1_pp  pred_class_thresh10\n",
       "0    0.146646    0.853354                    1\n",
       "1    0.182657    0.817343                    1\n",
       "2    0.095081    0.904919                    1\n",
       "3    0.075953    0.924047                    1\n",
       "4    0.072649    0.927351                    1\n",
       "5    0.535109    0.464891                    0\n",
       "6    0.577023    0.422977                    0\n",
       "7    0.581195    0.418805                    0\n",
       "8    0.141238    0.858762                    1\n",
       "9    0.539791    0.460209                    0"
      ]
     },
     "execution_count": 606,
     "metadata": {},
     "output_type": "execute_result"
    }
   ],
   "source": [
    "# In order to do this, we can lower the threshold for predicting class 1.\n",
    "# This will reduce our false negative rate to 0, but at the expense of a higher false positive rate.\n",
    "Y_pp['pred_class_thresh10'] = [1 if x >= 0.75 else 0 for x in Y_pp.class_1_pp.values]\n",
    "Y_pp.head(10)"
   ]
  },
  {
   "cell_type": "code",
   "execution_count": 607,
   "metadata": {
    "collapsed": false
   },
   "outputs": [
    {
     "data": {
      "text/html": [
       "<div>\n",
       "<table border=\"1\" class=\"dataframe\">\n",
       "  <thead>\n",
       "    <tr style=\"text-align: right;\">\n",
       "      <th></th>\n",
       "      <th>predicted_click</th>\n",
       "      <th>predicted_no_click</th>\n",
       "    </tr>\n",
       "  </thead>\n",
       "  <tbody>\n",
       "    <tr>\n",
       "      <th>click</th>\n",
       "      <td>63329</td>\n",
       "      <td>5510</td>\n",
       "    </tr>\n",
       "    <tr>\n",
       "      <th>no_click</th>\n",
       "      <td>9938</td>\n",
       "      <td>48298</td>\n",
       "    </tr>\n",
       "  </tbody>\n",
       "</table>\n",
       "</div>"
      ],
      "text/plain": [
       "          predicted_click  predicted_no_click\n",
       "click               63329                5510\n",
       "no_click             9938               48298"
      ]
     },
     "execution_count": 607,
     "metadata": {},
     "output_type": "execute_result"
    }
   ],
   "source": [
    "conmat = np.array(confusion_matrix(y_test, Y_pp.pred_class_thresh10.values, labels=[1,0]))\n",
    "\n",
    "confusion = pd.DataFrame(conmat, index=['click', 'no_click'],\n",
    "                         columns=['predicted_click','predicted_no_click'])\n",
    "confusion"
   ]
  },
  {
   "cell_type": "code",
   "execution_count": 608,
   "metadata": {
    "collapsed": false
   },
   "outputs": [
    {
     "data": {
      "image/png": "[encoded data removed]",
      "text/plain": [
       "<matplotlib.figure.Figure at 0x11bdad750>"
      ]
     },
     "metadata": {
      "image/png": {
       "height": 505,
       "width": 509
      }
     },
     "output_type": "display_data"
    }
   ],
   "source": [
    "from sklearn.metrics import roc_curve, auc\n",
    "# For class 1, find the area under the curve\n",
    "fpr, tpr, _ = roc_curve(y_test, Y_pp.class_1_pp)\n",
    "roc_auc = auc(fpr, tpr)\n",
    "\n",
    "# Plot of a ROC curve for class 1 (has_cancer)\n",
    "plt.figure(figsize=[8,8])\n",
    "plt.plot(fpr, tpr, label='ROC curve (area = %0.2f)' % roc_auc, linewidth=4)\n",
    "plt.plot([0, 1], [0, 1], 'k--', linewidth=4)\n",
    "plt.xlim([-0.05, 1.0])\n",
    "plt.ylim([-0.05, 1.05])\n",
    "plt.xlabel('False Positive Rate', fontsize=18)\n",
    "plt.ylabel('True Positive Rate', fontsize=18)\n",
    "plt.title('Receiver operating characteristic for click event', fontsize=18)\n",
    "plt.legend(loc=\"lower right\")\n",
    "plt.show()"
   ]
  },
  {
   "cell_type": "code",
   "execution_count": null,
   "metadata": {
    "collapsed": true
   },
   "outputs": [],
   "source": []
  }
 ],
 "metadata": {
  "kernelspec": {
   "display_name": "Python 2",
   "language": "python",
   "name": "python2"
  },
  "language_info": {
   "codemirror_mode": {
    "name": "ipython",
    "version": 2
   },
   "file_extension": ".py",
   "mimetype": "text/x-python",
   "name": "python",
   "nbconvert_exporter": "python",
   "pygments_lexer": "ipython2",
   "version": "2.7.13"
  }
 },
 "nbformat": 4,
 "nbformat_minor": 2
}
